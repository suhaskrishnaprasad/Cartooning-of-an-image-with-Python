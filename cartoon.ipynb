{
  "nbformat": 4,
  "nbformat_minor": 0,
  "metadata": {
    "colab": {
      "provenance": []
    },
    "kernelspec": {
      "name": "python3",
      "display_name": "Python 3"
    },
    "language_info": {
      "name": "python"
    }
  },
  "cells": [
    {
      "cell_type": "code",
      "execution_count": null,
      "metadata": {
        "id": "Vog7uMe44GwU"
      },
      "outputs": [],
      "source": [
        "import cv2\n",
        "import matplotlib.pyplot as plt\n",
        "import numpy as np\n",
        "def read_file(filename):\n",
        " img = cv2.imread(filename)\n",
        " img = cv2.cvtColor(img,cv2.COLOR_BGR2RGB)\n",
        "\n",
        " plt.imshow(img)\n",
        " plt.show()\n",
        " return img\n",
        "def edge_mask(img, line_size,blur_value):\n",
        " gray = cv2.cvtColor(img,cv2.COLOR_RGB2GRAY)\n",
        " gray_blur = cv2.blur(gray,(5,5))\n",
        " #gray_blur=cv2.GaussianBlur(gray, (blur_value,blur_value),0)\n",
        " #gray_blur = cv2.medianBlur(gray,blur_value)\n",
        " #gray_blur= cv2.bilateralFilter(gray,9,75,75)\n",
        "\n",
        "\n",
        " edges = cv2.adaptiveThreshold(gray_blur,255,cv2.ADAPTIVE_THRESH_MEAN_C,cv2.THRE\n",
        "SH_BINARY,line_size,blur_value)\n",
        " #sobelxy\n",
        " #edges = cv2.Sobel(src=gray, ddepth=cv2.CV_64F, dx=1, dy=1, ksize=5)\n",
        " #Canny\n",
        " #edges = cv2.Canny(image=gray, threshold1=0.001, threshold2=0.002)\n",
        " #laplacian\n",
        " #edges = cv2.Laplacian(gray,cv2.CV_64F)\n",
        " return edges\n",
        "def color_quantization(img,k):\n",
        " data = np.float32(img).reshape((-1,3))\n",
        " criteria = (cv2.TERM_CRITERIA_EPS+ cv2.TERM_CRITERIA_MAX_ITER,20,0.001)\n",
        "\n",
        " ret,label,center = cv2.kmeans(data,k,None,criteria,10,cv2.KMEANS_RANDOM_CENTERS\n",
        ")\n",
        " center = np.uint8(center)\n",
        "\n",
        " result = center[label.flatten()]\n",
        " result = result.reshape(img.shape)\n",
        "\n",
        " return result\n",
        "def cartoon():\n",
        " c = cv2.bitwise_and(blurred,blurred, mask = edges)\n",
        " plt.imshow(c)\n",
        " plt.show()\n",
        "\n",
        "filename='path of image'\n",
        "img = read_file(filename)\n",
        "line_size,blur_value = 3,3\n",
        "edges = edge_mask(img, line_size,blur_value)\n",
        "plt.imshow(edges, cmap = 'binary')\n",
        "img_quant = color_quantization(img,k=10)\n",
        "plt.imshow(img_quant)\n",
        "blurred = cv2.bilateralFilter(img_quant, d=7, sigmaColor = 100, sigmaSpace = 100)\n",
        "cartoon()\n",
        "plt.show()"
      ]
    }
  ]
}